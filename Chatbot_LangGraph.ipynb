{
 "cells": [
  {
   "cell_type": "code",
   "execution_count": 2,
   "metadata": {},
   "outputs": [],
   "source": [
    "import os\n",
    "from dotenv import load_dotenv\n",
    "load_dotenv()\n",
    "\n",
    "os.environ[\"GOOGLE_API_KEY\"]=os.getenv(\"GOOGLE_API_KEY\")\n",
    "\n",
    "os.environ[\"LANGCHAIN_API_KEY\"]=os.getenv(\"LANGCHAIN_API_KEY\")\n",
    "os.environ[\"LANGCHAIN_TRACING_V2\"] = \"true\"\n",
    "os.environ[\"LANGCHAIN_PROJECT\"] = \"Airtel_Chatbot\""
   ]
  },
  {
   "cell_type": "markdown",
   "metadata": {},
   "source": [
    "## Model"
   ]
  },
  {
   "cell_type": "code",
   "execution_count": 3,
   "metadata": {},
   "outputs": [
    {
     "name": "stderr",
     "output_type": "stream",
     "text": [
      "n:\\Coding\\Projects\\LangGraph_AirtelChatBot\\env\\lib\\site-packages\\tqdm\\auto.py:21: TqdmWarning: IProgress not found. Please update jupyter and ipywidgets. See https://ipywidgets.readthedocs.io/en/stable/user_install.html\n",
      "  from .autonotebook import tqdm as notebook_tqdm\n"
     ]
    }
   ],
   "source": [
    "from langchain_google_genai import ChatGoogleGenerativeAI\n",
    "\n",
    "# model = ChatGoogleGenerativeAI(model=\"gemini-1.5-pro-latest\")\n",
    "model = ChatGoogleGenerativeAI(model=\"gemini-1.5-flash\")"
   ]
  },
  {
   "cell_type": "markdown",
   "metadata": {},
   "source": [
    "## Tools"
   ]
  },
  {
   "cell_type": "code",
   "execution_count": 4,
   "metadata": {},
   "outputs": [],
   "source": [
    "from langchain_core.tools import tool\n",
    "\n",
    "@tool(\"Network_Related_Issues\",return_direct=True)\n",
    "def tool_network_related_issues(text:str)->str:\n",
    "    \"\"\"\n",
    "    If the issues are related to network connection, network speed, connection drops, 5G or any other network related issues, this tool will be used.\n",
    "    This takes the text as input and returns the response for the network related issues.\n",
    "    \"\"\"\n",
    "    return \"Your Network has been optimized from our side.\\n \\\n",
    "        If the issue persists, please book an apointment with the technician.\"\n",
    "\n",
    "@tool(\"Plan_Queries\",return_direct=True)\n",
    "def tool_plan_queries(text:str)->str:\n",
    "    \"\"\"\n",
    "    If the issues are related to the plan details,current plan, plan validity, plan charges or plan type, this tool will be used. This takes the text as input and returns the response for the plan related queries.\n",
    "    \"\"\"\n",
    "    plan_details = {\"Type\":\"Black\",\"Charges\":699,\"Validity\":\"30 days\"}\n",
    "    return f\"Your current plan is {plan_details['Type']} plan with charges of {plan_details['Charges']} and validity of {plan_details['Validity']}.\"\n",
    "\n",
    "@tool(\"Recharge\",return_direct=True)\n",
    "def tool_recharge(text:str)->str:\n",
    "    \"\"\"\n",
    "    If the issues are related to recharge this tool will be used. This takes the text as input and returns the response for the recharge related issues.\n",
    "    \"\"\"\n",
    "    return \"You can recharge your account through Airtel Thanks App.\"\n",
    "\n",
    "tools = [\n",
    "    tool_network_related_issues,\n",
    "    tool_plan_queries,\n",
    "    tool_recharge\n",
    "]"
   ]
  },
  {
   "cell_type": "code",
   "execution_count": 5,
   "metadata": {},
   "outputs": [],
   "source": [
    "model = model.bind_tools(tools)"
   ]
  },
  {
   "cell_type": "markdown",
   "metadata": {},
   "source": [
    "## Agent State"
   ]
  },
  {
   "cell_type": "code",
   "execution_count": 6,
   "metadata": {},
   "outputs": [],
   "source": [
    "from typing import TypedDict, Annotated\n",
    "from langgraph.graph.message import AnyMessage, add_messages\n",
    "\n",
    "\n",
    "class AgentState(TypedDict):\n",
    "    messages: Annotated[list[AnyMessage], add_messages]"
   ]
  },
  {
   "cell_type": "markdown",
   "metadata": {},
   "source": [
    "## Nodes"
   ]
  },
  {
   "cell_type": "code",
   "execution_count": 7,
   "metadata": {},
   "outputs": [],
   "source": [
    "from langchain_core.prompts import ChatPromptTemplate\n",
    "from langchain_core.runnables import Runnable, RunnableConfig\n",
    "\n",
    "\n",
    "class Assistant:\n",
    "    def __init__(self, runnable: Runnable):\n",
    "        self.runnable = runnable\n",
    "\n",
    "    def __call__(self, state: AgentState):\n",
    "        while True:\n",
    "            state = {**state}\n",
    "            result = self.runnable.invoke(state)\n",
    "            # If the LLM happens to return an empty response, we will re-prompt it\n",
    "            # for an actual response.\n",
    "            if not result.tool_calls and (\n",
    "                not result.content\n",
    "                or isinstance(result.content, list)\n",
    "                and not result.content[0].get(\"text\")\n",
    "            ):\n",
    "                messages = state[\"messages\"] + [(\"user\", \"Respond with a real output.\")]\n",
    "                state = {**state, \"messages\": messages}\n",
    "            else:\n",
    "                break\n",
    "        return {\"messages\": result}\n",
    "\n",
    "primary_assistant_prompt = ChatPromptTemplate.from_messages(\n",
    "    [\n",
    "        (\n",
    "            \"system\",\n",
    "            \"You are a helpful assistant. \"\n",
    "            # \"You are a helpful customer support assistant for Airtel. \"\n",
    "            # \" Use the provided tools to resolve network related queries, provide plan details, recharge details and other information to assist the user's queries. \"\n",
    "            # \" When searching, be persistent. Expand your query bounds if the first search returns no results. \"\n",
    "            # \" If a search comes up empty, expand your search before giving up.\"\n",
    "        ),\n",
    "        (\"placeholder\", \"{messages}\"),\n",
    "    ]\n",
    ")\n",
    "\n",
    "assistant_runnable = primary_assistant_prompt | model.bind_tools(tools)"
   ]
  },
  {
   "cell_type": "markdown",
   "metadata": {},
   "source": [
    "## Graph"
   ]
  },
  {
   "cell_type": "code",
   "execution_count": 8,
   "metadata": {},
   "outputs": [],
   "source": [
    "from langgraph.graph import END, StateGraph, START\n",
    "from langgraph.prebuilt import tools_condition,ToolNode\n",
    "\n",
    "builder = StateGraph(AgentState)\n",
    "\n",
    "\n",
    "# Define nodes\n",
    "builder.add_node(\"assistant\", Assistant(assistant_runnable))\n",
    "builder.add_node(\"tools\", ToolNode(tools))\n",
    "# Define edges\n",
    "builder.add_edge(START, \"assistant\")\n",
    "builder.add_conditional_edges(\n",
    "    \"assistant\",\n",
    "    tools_condition,\n",
    ")\n",
    "builder.add_edge(\"tools\", \"assistant\")\n",
    "\n",
    "graph = builder.compile()"
   ]
  },
  {
   "cell_type": "code",
   "execution_count": 9,
   "metadata": {},
   "outputs": [
    {
     "data": {
      "image/jpeg": "[encoded data removed]",
      "text/plain": [
       "<IPython.core.display.Image object>"
      ]
     },
     "metadata": {},
     "output_type": "display_data"
    }
   ],
   "source": [
    "from IPython.display import Image, display\n",
    "\n",
    "try:\n",
    "    display(Image(graph.get_graph(xray=True).draw_mermaid_png()))\n",
    "except Exception:\n",
    "    pass"
   ]
  },
  {
   "cell_type": "markdown",
   "metadata": {},
   "source": [
    "## Ultility Function"
   ]
  },
  {
   "cell_type": "code",
   "execution_count": 10,
   "metadata": {},
   "outputs": [],
   "source": [
    "def _print_event(event: dict, _printed: set, max_length=1500):\n",
    "    current_state = event.get(\"dialog_state\")\n",
    "    if current_state:\n",
    "        print(\"Currently in: \", current_state[-1])\n",
    "    message = event.get(\"messages\")\n",
    "    if message:\n",
    "        if isinstance(message, list):\n",
    "            message = message[-1]\n",
    "        if message.id not in _printed:\n",
    "            msg_repr = message.pretty_repr(html=True)\n",
    "            if len(msg_repr) > max_length:\n",
    "                msg_repr = msg_repr[:max_length] + \" ... (truncated)\"\n",
    "            print(msg_repr)\n",
    "            _printed.add(message.id)"
   ]
  },
  {
   "cell_type": "markdown",
   "metadata": {},
   "source": [
    "## Testing the inputs"
   ]
  },
  {
   "cell_type": "code",
   "execution_count": 11,
   "metadata": {},
   "outputs": [
    {
     "name": "stdout",
     "output_type": "stream",
     "text": [
      "================================\u001b[1m Human Message \u001b[0m=================================\n",
      "\n",
      "My internet gets disconnected\n",
      "==================================\u001b[1m Ai Message \u001b[0m==================================\n",
      "Tool Calls:\n",
      "  Network_Related_Issues (544a6028-6838-4cfa-8b57-4377b8b81702)\n",
      " Call ID: 544a6028-6838-4cfa-8b57-4377b8b81702\n",
      "  Args:\n",
      "    text: My internet gets disconnected\n",
      "=================================\u001b[1m Tool Message \u001b[0m=================================\n",
      "Name: Network_Related_Issues\n",
      "\n",
      "Your Network has been optimized from our side.\n",
      "         If the issue persists, please book an apointment with the technician.\n",
      "==================================\u001b[1m Ai Message \u001b[0m==================================\n",
      "\n",
      "Your Network has been optimized from our side. If the issue persists, please book an apointment with the technician.\n",
      "================================\u001b[1m Human Message \u001b[0m=================================\n",
      "\n",
      "How to know my plan details and recharge.\n",
      "==================================\u001b[1m Ai Message \u001b[0m==================================\n",
      "\n",
      "I am sorry, I cannot fulfill this request. I do not have access to your personal information or any recharge services.\n",
      "================================\u001b[1m Human Message \u001b[0m=================================\n",
      "\n",
      "My internet speed is very less\n",
      "==================================\u001b[1m Ai Message \u001b[0m==================================\n",
      "Tool Calls:\n",
      "  Network_Related_Issues (aa9aff89-65a6-4a56-8b2a-a898613de659)\n",
      " Call ID: aa9aff89-65a6-4a56-8b2a-a898613de659\n",
      "  Args:\n",
      "    text: My internet speed is very less\n",
      "=================================\u001b[1m Tool Message \u001b[0m=================================\n",
      "Name: Network_Related_Issues\n",
      "\n",
      "Your Network has been optimized from our side.\n",
      "         If the issue persists, please book an apointment with the technician.\n",
      "==================================\u001b[1m Ai Message \u001b[0m==================================\n",
      "\n",
      "Your Network has been optimized from our side. If the issue persists, please book an apointment with the technician.\n",
      "================================\u001b[1m Human Message \u001b[0m=================================\n",
      "\n",
      "My network speed is very low\n",
      "==================================\u001b[1m Ai Message \u001b[0m==================================\n",
      "Tool Calls:\n",
      "  Network_Related_Issues (1f5cc278-2096-4de8-92ce-f90ebcb1d0c5)\n",
      " Call ID: 1f5cc278-2096-4de8-92ce-f90ebcb1d0c5\n",
      "  Args:\n",
      "    text: My network speed is very low\n",
      "=================================\u001b[1m Tool Message \u001b[0m=================================\n",
      "Name: Network_Related_Issues\n",
      "\n",
      "Your Network has been optimized from our side.\n",
      "         If the issue persists, please book an apointment with the technician.\n",
      "==================================\u001b[1m Ai Message \u001b[0m==================================\n",
      "\n",
      "Your Network has been optimized from our side. \n",
      "         If the issue persists, please book an apointment with the technician.\n",
      "================================\u001b[1m Human Message \u001b[0m=================================\n",
      "\n",
      "What are my current plan details\n",
      "==================================\u001b[1m Ai Message \u001b[0m==================================\n",
      "\n",
      "I can't help with that. I need more information about your plan.  Please provide me with the name of your service provider or the type of plan you're looking for details on.\n"
     ]
    }
   ],
   "source": [
    "tutorial_questions = [\n",
    "    \"My internet gets disconnected\",\n",
    "    \"How to know my plan details and recharge.\",\n",
    "    \"My internet speed is very less\",\n",
    "    \"My network speed is very low\",\n",
    "    \"What are my current plan details\"\n",
    "]\n",
    "_printed = set()\n",
    "for question in tutorial_questions:\n",
    "    events = graph.stream(\n",
    "        {\"messages\": (\"user\", question)}, stream_mode=\"values\"\n",
    "    )\n",
    "    for event in events:\n",
    "        _print_event(event, _printed)"
   ]
  }
 ],
 "metadata": {
  "kernelspec": {
   "display_name": "Python 3",
   "language": "python",
   "name": "python3"
  },
  "language_info": {
   "codemirror_mode": {
    "name": "ipython",
    "version": 3
   },
   "file_extension": ".py",
   "mimetype": "text/x-python",
   "name": "python",
   "nbconvert_exporter": "python",
   "pygments_lexer": "ipython3",
   "version": "3.10.14"
  }
 },
 "nbformat": 4,
 "nbformat_minor": 2
}
